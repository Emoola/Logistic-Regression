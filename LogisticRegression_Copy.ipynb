{
 "cells": [
  {
   "cell_type": "markdown",
   "metadata": {},
   "source": [
    "### How To Implement Simple Linear Regression From Scratch With Python\n",
    "https://machinelearningmastery.com/implement-simple-linear-regression-scratch-python/"
   ]
  },
  {
   "cell_type": "code",
   "execution_count": 1,
   "metadata": {},
   "outputs": [],
   "source": [
    "from csv import reader\n",
    "\n",
    "def load_csv(filename):\n",
    "    dataset = list()\n",
    "    with open(filename, 'r') as file:\n",
    "        csv_reader = reader(file)\n",
    "        for row in csv_reader:\n",
    "            #if not row:\n",
    "            #    continue\n",
    "            dataset.append(row)\n",
    "    return dataset\n",
    "\n",
    "dataset = load_csv('diabetes.csv')"
   ]
  },
  {
   "cell_type": "markdown",
   "metadata": {},
   "source": [
    "Remove column header and convert all the columns to float. "
   ]
  },
  {
   "cell_type": "code",
   "execution_count": 2,
   "metadata": {},
   "outputs": [],
   "source": [
    "def str_column_to_float(dataset, column):\n",
    "    for row in dataset:\n",
    "        row[column] = float(row[column].strip())\n",
    "\n",
    "col_names = dataset[0]\n",
    "dataset.pop(0)\n",
    "\n",
    "for i in range(len(dataset[0])):\n",
    "    str_column_to_float(dataset, i)\n"
   ]
  },
  {
   "cell_type": "code",
   "execution_count": 3,
   "metadata": {},
   "outputs": [
    {
     "data": {
      "text/plain": [
       "[[0.0, 17.0],\n",
       " [0.0, 199.0],\n",
       " [0.0, 122.0],\n",
       " [0.0, 99.0],\n",
       " [0.0, 846.0],\n",
       " [0.0, 67.1],\n",
       " [0.078, 2.42],\n",
       " [21.0, 81.0],\n",
       " [0.0, 1.0]]"
      ]
     },
     "execution_count": 3,
     "metadata": {},
     "output_type": "execute_result"
    }
   ],
   "source": [
    "def dataset_minmax(dataset):\n",
    "    minmax = list()\n",
    "    for i in range(len(dataset[0])):\n",
    "        col_values = [row[i] for row in dataset]\n",
    "        min_value = min(col_values)\n",
    "        max_value = max(col_values)\n",
    "        minmax.append([min_value,max_value])\n",
    "    return minmax\n",
    "\n",
    "minmax_data = dataset_minmax(dataset)\n",
    "minmax_data\n"
   ]
  },
  {
   "cell_type": "markdown",
   "metadata": {},
   "source": [
    "The range of each feature differs, so min-max normalization is used. All the values will fall into range (0,1)"
   ]
  },
  {
   "cell_type": "code",
   "execution_count": 4,
   "metadata": {},
   "outputs": [],
   "source": [
    "def normalize_dataset(dataset, minmax):\n",
    "    for row in dataset:\n",
    "        for i in range(len(row)):\n",
    "            row[i] = (row[i]-minmax[i][0]) / (minmax[i][1]-minmax[i][0])\n",
    "\n",
    "normalize_dataset(dataset, minmax_data)\n"
   ]
  },
  {
   "cell_type": "code",
   "execution_count": 5,
   "metadata": {},
   "outputs": [],
   "source": [
    "from math import exp\n",
    "\n",
    "def predict(row, coeff):\n",
    "    yhat = coeff[0]\n",
    "    for i in range(len(row)-1):\n",
    "        yhat += coeff[i+1] * row[i]\n",
    "    prediction = 1.0/(1.0 + exp(-yhat))\n",
    "    return prediction\n",
    "\n",
    "def coeff_sgd(train, learning_rate, epoch):\n",
    "    coeff = [0.0 for i in range(len(train[0]))]\n",
    "    for epoch_value in range(epoch):\n",
    "        for row in train:\n",
    "            yhat = predict(row, coeff)\n",
    "            error = row[-1] - yhat\n",
    "            coeff[0] = coeff[0] + learning_rate * error * yhat * (1.0 - yhat)\n",
    "            for i in range(len(row)-1):\n",
    "                coeff[i+1] = coeff[i+1] + learning_rate * error * yhat * (1.0 - yhat) * row[i]\n",
    "    return coeff\n",
    "\n",
    "    "
   ]
  },
  {
   "cell_type": "code",
   "execution_count": 6,
   "metadata": {},
   "outputs": [],
   "source": [
    "def logistic_regression(train, test, learning_rate, epoch):\n",
    "    predictions = list()\n",
    "    coeff = coeff_sgd(train, learning_rate, epoch)\n",
    "    for row in test:\n",
    "        yhat = round(predict(row, coeff))\n",
    "        predictions.append(yhat)\n",
    "    return predictions"
   ]
  },
  {
   "cell_type": "code",
   "execution_count": 7,
   "metadata": {},
   "outputs": [],
   "source": [
    "def accuracy_metric(actual, predicted):\n",
    "    correct = 0\n",
    "    true_neg = 0\n",
    "    true_pos = 0\n",
    "    false_neg = 0\n",
    "    false_pos = 0\n",
    "\n",
    "    for i in range(len(actual)):\n",
    "        if actual[i] == predicted[i]:\n",
    "            correct += 1\n",
    "            if actual[i]==0:\n",
    "                true_neg += 1\n",
    "            else:\n",
    "                true_pos +=1\n",
    "        else:\n",
    "            if actual[i]==0:\n",
    "                false_pos +=1\n",
    "            else:\n",
    "                false_neg +=1\n",
    "    confusion_matrix = [true_pos, false_neg, false_pos, true_neg]        \n",
    "    percentage = correct / float(len(actual)) * 100.0\n",
    "    return [confusion_matrix,percentage]"
   ]
  },
  {
   "cell_type": "markdown",
   "metadata": {},
   "source": [
    "fold size = number of training data in each set.\n",
    "k-1 folds are used as training data.\n",
    "cross validation is used to measure prediction accuracy."
   ]
  },
  {
   "cell_type": "code",
   "execution_count": 8,
   "metadata": {},
   "outputs": [],
   "source": [
    "from random import randrange\n",
    "from random import seed\n",
    "\n",
    "def cross_validation_split(dataset, n_folds):\n",
    "    dataset_split = list()\n",
    "    dataset_copy = list(dataset)\n",
    "    fold_size = int(len(dataset)/n_folds)\n",
    "    for i in range(n_folds):\n",
    "        fold = list()\n",
    "        while len(fold) < fold_size:\n",
    "            index = randrange(len(dataset_copy))\n",
    "            fold.append(dataset_copy.pop(index)) #dataset_copy becomes the testing dataset (the remaining data)\n",
    "        dataset_split.append(fold)\n",
    "    return dataset_split\n",
    "\n",
    "def eval_algthm(dataset, algthm, n_folds, *args):\n",
    "    folds = cross_validation_split(dataset, n_folds)\n",
    "    accuracy_list = list()\n",
    "    for fold in folds:\n",
    "        train_set = list(folds)\n",
    "        train_set.remove(fold)\n",
    "        train_set = sum(train_set, [])\n",
    "        test_set = list()\n",
    "        for row in fold:\n",
    "            row_copy = list(row)\n",
    "            test_set.append(row_copy)\n",
    "            row_copy[-1] = None\n",
    "        predicted = algthm(train_set, test_set, *args)\n",
    "        actual = [row[-1] for row in fold]\n",
    "        confusion_matrix, accuracy = accuracy_metric(actual, predicted)\n",
    "        accuracy_list.append(accuracy)\n",
    "    return [confusion_matrix, accuracy_list]"
   ]
  },
  {
   "cell_type": "markdown",
   "metadata": {},
   "source": [
    "Testing different values for k-fold, learning rate and epoch. Average accuracy is calculated w.r.t. each fold. k-fold value:4, learning rate: 0.2 and epoch value:10 seems to have the best accuracy."
   ]
  },
  {
   "cell_type": "code",
   "execution_count": 9,
   "metadata": {},
   "outputs": [],
   "source": [
    "seed(1)\n",
    "#n_folds = 5\n",
    "#learning_rate = 0.1\n",
    "#epoch = 100\n",
    "def score_df(data):\n",
    "    scores_list = list()\n",
    "    for i in range(3,10):\n",
    "        n_folds = i\n",
    "        for j in range(5, 35, 5):\n",
    "            learning_rate = j/100.0\n",
    "            for k in [50,100]:\n",
    "                epoch = k\n",
    "                confusion_matrix, scores = eval_algthm(data, logistic_regression, n_folds, learning_rate, epoch)\n",
    "                average_score = sum(scores)/float(len(scores))\n",
    "                scores_list.append([i,learning_rate, epoch, average_score, confusion_matrix])\n",
    "    return scores_list"
   ]
  },
  {
   "cell_type": "code",
   "execution_count": 10,
   "metadata": {},
   "outputs": [
    {
     "name": "stdout",
     "output_type": "stream",
     "text": [
      "    k-fold  learning rate  epoch  average accuracy %   confusion matrix\n",
      "0        3           0.05     50           75.781250  [41, 41, 19, 155]\n",
      "1        3           0.05    100           76.171875  [59, 35, 19, 143]\n",
      "2        3           0.10     50           76.562500  [51, 40, 20, 145]\n",
      "3        3           0.10    100           76.822917  [50, 44, 20, 142]\n",
      "4        3           0.15     50           76.822917   [54, 45, 9, 148]\n",
      "5        3           0.15    100           76.562500  [48, 44, 13, 151]\n",
      "6        3           0.20     50           76.302083  [49, 39, 29, 139]\n",
      "7        3           0.20    100           77.083333  [48, 42, 20, 146]\n",
      "8        3           0.25     50           76.432292  [52, 46, 20, 138]\n",
      "9        3           0.25    100           77.473958  [57, 32, 15, 152]\n",
      "10       3           0.30     50           77.604167  [43, 38, 17, 158]\n",
      "11       3           0.30    100           76.692708  [69, 22, 28, 137]\n",
      "12       4           0.05     50           75.781250  [24, 31, 11, 126]\n",
      "13       4           0.05    100           76.692708  [39, 26, 15, 112]\n",
      "14       4           0.10     50           77.083333   [33, 29, 8, 122]\n",
      "15       4           0.10    100           76.692708  [48, 24, 14, 106]\n",
      "16       4           0.15     50           77.083333  [36, 24, 13, 119]\n",
      "17       4           0.15    100           76.302083   [49, 19, 26, 98]\n",
      "18       4           0.20     50           75.390625  [41, 27, 11, 113]\n",
      "19       4           0.20    100           77.994792  [33, 27, 12, 120]\n",
      "20       4           0.25     50           76.041667  [35, 35, 14, 108]\n",
      "21       4           0.25    100           77.213542  [41, 28, 15, 108]\n",
      "22       4           0.30     50           76.692708  [49, 21, 16, 106]\n",
      "23       4           0.30    100           76.302083   [40, 33, 22, 97]\n",
      "24       5           0.05     50           76.339869   [24, 26, 12, 91]\n",
      "25       5           0.05    100           76.601307   [28, 26, 13, 86]\n",
      "26       5           0.10     50           76.732026   [32, 25, 11, 85]\n",
      "27       5           0.10    100           76.862745   [27, 29, 12, 85]\n",
      "28       5           0.15     50           76.470588   [28, 25, 13, 87]\n",
      "29       5           0.15    100           77.647059   [37, 20, 15, 81]\n",
      "..     ...            ...    ...                 ...                ...\n",
      "54       7           0.20     50           77.719528    [20, 14, 9, 66]\n",
      "55       7           0.20    100           77.195282   [14, 14, 11, 70]\n",
      "56       7           0.25     50           77.064220    [23, 15, 7, 64]\n",
      "57       7           0.25    100           76.671035   [28, 12, 13, 56]\n",
      "58       7           0.30     50           75.622543    [24, 16, 9, 60]\n",
      "59       7           0.30    100           77.064220    [26, 17, 6, 60]\n",
      "60       8           0.05     50           76.302083     [22, 8, 7, 59]\n",
      "61       8           0.05    100           76.692708    [20, 14, 8, 54]\n",
      "62       8           0.10     50           76.171875    [27, 13, 6, 50]\n",
      "63       8           0.10    100           77.343750    [20, 9, 13, 54]\n",
      "64       8           0.15     50           77.083333    [22, 15, 6, 53]\n",
      "65       8           0.15    100           77.473958    [16, 10, 6, 64]\n",
      "66       8           0.20     50           77.604167    [13, 19, 5, 59]\n",
      "67       8           0.20    100           76.692708    [19, 17, 6, 54]\n",
      "68       8           0.25     50           76.302083    [14, 13, 8, 61]\n",
      "69       8           0.25    100           77.213542   [16, 13, 12, 55]\n",
      "70       8           0.30     50           75.130208   [19, 20, 12, 45]\n",
      "71       8           0.30    100           76.953125   [26, 16, 11, 43]\n",
      "72       9           0.05     50           76.339869    [12, 13, 6, 54]\n",
      "73       9           0.05    100           76.993464    [11, 15, 4, 55]\n",
      "74       9           0.10     50           76.601307    [18, 10, 8, 49]\n",
      "75       9           0.10    100           76.993464    [20, 17, 1, 47]\n",
      "76       9           0.15     50           75.686275    [16, 14, 7, 48]\n",
      "77       9           0.15    100           76.732026    [18, 14, 7, 46]\n",
      "78       9           0.20     50           77.777778     [18, 7, 6, 54]\n",
      "79       9           0.20    100           76.470588    [19, 10, 6, 50]\n",
      "80       9           0.25     50           76.209150    [15, 18, 4, 48]\n",
      "81       9           0.25    100           77.777778    [15, 12, 6, 52]\n",
      "82       9           0.30     50           76.339869    [19, 17, 5, 44]\n",
      "83       9           0.30    100           76.993464    [17, 15, 9, 44]\n",
      "\n",
      "[84 rows x 5 columns]\n"
     ]
    }
   ],
   "source": [
    "#print(scores)\n",
    "#print(sum(scores)/float(len(scores)))\n",
    "import pandas as pd\n",
    "\n",
    "scores_list = score_df(dataset)\n",
    "results = pd.DataFrame(scores_list, columns = ('k-fold', 'learning rate', 'epoch', 'average accuracy %', 'confusion matrix'))\n",
    "print(results)"
   ]
  },
  {
   "cell_type": "code",
   "execution_count": 12,
   "metadata": {},
   "outputs": [],
   "source": [
    "def find_max_accuracy(results):\n",
    "    max_accuracy = max(results.iloc[:,-2])\n",
    "    for i in range(len(results)):\n",
    "        if results.iloc[i][-2] == max_accuracy:\n",
    "            results_list = list()\n",
    "            confusion_matrix = results.iloc[i][-1]\n",
    "            for j in range(len(results.iloc[i])-2):\n",
    "                results_list.append(results.iloc[i][j])\n",
    "    print('k-fold, learning rate, epoch for max. average accuracy: ', results_list)\n",
    "    print('confusion matrix: ', confusion_matrix)\n",
    "    print('Average accuracy obtained: %0.3f' % max_accuracy,'%')\n",
    "    return results_list\n"
   ]
  },
  {
   "cell_type": "code",
   "execution_count": 13,
   "metadata": {},
   "outputs": [
    {
     "name": "stdout",
     "output_type": "stream",
     "text": [
      "k-fold, learning rate, epoch for max. average accuracy:  [4, 0.2, 100]\n",
      "confusion matrix:  [33, 27, 12, 120]\n",
      "Average accuracy obtained: 77.995 %\n",
      "Score in diff. no. of epoch:  [65.10416666666666, 76.30208333333334, 76.953125, 77.08333333333334, 77.99479166666666, 75.91145833333334, 75.390625, 76.82291666666666, 76.30208333333333, 76.171875, 76.5625]\n"
     ]
    }
   ],
   "source": [
    "results_list = find_max_accuracy(results)\n",
    "n_folds = results_list[0]\n",
    "learning_rate = results_list[1]\n",
    "max_epoch = results_list[2]\n",
    "epoch_score = list()\n",
    "for epoch in range(0, max_epoch+10,10):\n",
    "    confusion_matrix, scores = eval_algthm(dataset, logistic_regression, n_folds, learning_rate, epoch)\n",
    "    scores_avg =  sum(scores)/float(len(scores))\n",
    "    epoch_score.append(scores_avg)\n",
    "\n",
    "print('Score in diff. no. of epoch: ', epoch_score)\n",
    "\n"
   ]
  },
  {
   "cell_type": "code",
   "execution_count": 15,
   "metadata": {},
   "outputs": [
    {
     "name": "stdout",
     "output_type": "stream",
     "text": [
      "[<matplotlib.lines.Line2D object at 0x000002CBE7F26CF8>]\n"
     ]
    },
    {
     "data": {
      "image/png": "[encoded data removed]",
      "text/plain": [
       "<Figure size 432x288 with 1 Axes>"
      ]
     },
     "metadata": {},
     "output_type": "display_data"
    }
   ],
   "source": [
    "import matplotlib.pyplot as plt\n",
    "x_axis = [epoch for epoch in range(0, max_epoch+10, 10)]\n",
    "accuracy_plt = plt.plot(x_axis,epoch_score)\n",
    "#plt.xlim(xmax = max_epoch, xmin = 0)\n",
    "plt.ylim(ymax = 100, ymin = 50)\n",
    "plt.title('Average accuracy reached in every 10 epoch')\n",
    "print(accuracy_plt)"
   ]
  },
  {
   "cell_type": "markdown",
   "metadata": {},
   "source": [
    "Use a different dataset to perform the logistic regression model with the defined functions above.\n",
    "\n",
    "The dataset 'voice.csv' is used. The labels are indicating whether the gender of the voice is 'male' or 'female'. The first step is to remove the column header and change the labels to 1 or 0, with 1 representing 'male' and 0 representing 'female'.\n",
    "\n",
    "Dataset can be found on: https://www.kaggle.com/primaryobjects/voicegender/"
   ]
  },
  {
   "cell_type": "code",
   "execution_count": 16,
   "metadata": {},
   "outputs": [],
   "source": [
    "dataset_2 = load_csv('voice.csv')\n",
    "col_names = dataset_2[0]\n",
    "dataset_2.pop(0)\n",
    "for row in dataset_2:\n",
    "    if row[-1] =='male':\n",
    "        row[-1]=1\n",
    "    else:\n",
    "        row[-1]=0\n",
    "\n",
    "for i in range(len(dataset_2[0])-1):\n",
    "    str_column_to_float(dataset_2, i)\n",
    "\n",
    "minmax_data_2 = dataset_minmax(dataset_2)\n",
    "\n",
    "normalize_dataset(dataset_2, minmax_data_2)"
   ]
  },
  {
   "cell_type": "code",
   "execution_count": 17,
   "metadata": {},
   "outputs": [
    {
     "name": "stdout",
     "output_type": "stream",
     "text": [
      "    k-fold  learning rate  epoch  average accuracy %  confusion matrix\n",
      "79       9           0.20    100           97.474747  [168, 3, 5, 176]\n",
      "80       9           0.25     50           97.380051  [164, 6, 1, 181]\n",
      "81       9           0.25    100           97.032828  [160, 7, 4, 181]\n",
      "82       9           0.30     50           97.443182  [175, 6, 3, 168]\n",
      "83       9           0.30    100           97.537879  [170, 3, 4, 175]\n"
     ]
    }
   ],
   "source": [
    "scores_list_2 = score_df(dataset_2)\n",
    "results_2 = pd.DataFrame(scores_list_2, columns = ('k-fold', 'learning rate', 'epoch', 'average accuracy %', 'confusion matrix'))\n",
    "print(results_2.tail())"
   ]
  },
  {
   "cell_type": "code",
   "execution_count": 18,
   "metadata": {},
   "outputs": [
    {
     "name": "stdout",
     "output_type": "stream",
     "text": [
      "k-fold, learning rate, epoch for max. average accuracy:  [5, 0.3, 100]\n",
      "confusion matrix:  [320, 17, 4, 292]\n",
      "Average accuracy obtained: 97.662 %\n"
     ]
    }
   ],
   "source": [
    "results_list_2 = find_max_accuracy(results_2)"
   ]
  },
  {
   "cell_type": "code",
   "execution_count": null,
   "metadata": {},
   "outputs": [],
   "source": []
  }
 ],
 "metadata": {
  "kernelspec": {
   "display_name": "Python 3",
   "language": "python",
   "name": "python3"
  },
  "language_info": {
   "codemirror_mode": {
    "name": "ipython",
    "version": 3
   },
   "file_extension": ".py",
   "mimetype": "text/x-python",
   "name": "python",
   "nbconvert_exporter": "python",
   "pygments_lexer": "ipython3",
   "version": "3.6.5"
  }
 },
 "nbformat": 4,
 "nbformat_minor": 2
}
