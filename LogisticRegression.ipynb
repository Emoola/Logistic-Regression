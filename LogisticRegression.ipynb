{
 "cells": [
  {
   "cell_type": "markdown",
   "metadata": {},
   "source": [
    "### Logistic Regression Tutorial for Machine Learning\n",
    "https://machinelearningmastery.com/logistic-regression-tutorial-for-machine-learning/"
   ]
  },
  {
   "cell_type": "code",
   "execution_count": 1,
   "metadata": {},
   "outputs": [],
   "source": [
    "data = [[2.7810836,2.550537003,0],[1.465489372,2.362125076,0], [3.396561688,4.400293529,0],[1.38807019,1.850220317,0],\n",
    "[3.06407232,3.005305973,0],[7.627531214,2.759262235,1], [5.332441248,2.088626775,1],[6.922596716,1.77106367,1],\n",
    "[8.675418651,-0.2420686549,1],[7.673756466,3.508563011,1]]"
   ]
  },
  {
   "cell_type": "code",
   "execution_count": 7,
   "metadata": {},
   "outputs": [
    {
     "name": "stdout",
     "output_type": "stream",
     "text": [
      "<matplotlib.collections.PathCollection object at 0x000001DE792DF7B8>\n"
     ]
    },
    {
     "data": {
      "image/png": "[encoded data removed]",
      "text/plain": [
       "<Figure size 432x288 with 1 Axes>"
      ]
     },
     "metadata": {},
     "output_type": "display_data"
    }
   ],
   "source": [
    "import matplotlib.pyplot as plt\n",
    "import numpy as np\n",
    "x_1 = [row[0] for row in data]\n",
    "x_2 = [row[1] for row in data]\n",
    "y = [row[-1] for row in data]\n",
    "color= ['red' if value == 1 else 'blue' for value in y]\n",
    "fig = plt.scatter(x_1, x_2, c=color)\n",
    "print(fig)"
   ]
  },
  {
   "cell_type": "code",
   "execution_count": 3,
   "metadata": {},
   "outputs": [],
   "source": [
    "b_0 = 0.0\n",
    "b_1 = 0.0\n",
    "b_2 = 0.0\n",
    "learning_rate = 0.3\n",
    "epoch = 10"
   ]
  },
  {
   "cell_type": "markdown",
   "metadata": {},
   "source": [
    "The prediction (probability $p$): $h(t)=\\frac{1}{1+e^{-t}}$ where \n",
    "$t=b_{0}+b_{1}x_{1}+b_{2}x_{2}$. \n",
    "\n",
    "The cost function is defined as: $f=\\frac{1}{2}\\sum(y-h(t))^{2}=\\frac{1}{2}\\sum(y-h(x_{1},x_{2}))^{2}$\n",
    "\n",
    "$h'(t)=h(t)(1-h(t))$,then $\\frac{\\partial f}{\\partial\\theta_{i}}=-(y-h(x_{1},x_{2}))h'(x_{1},x_{2})x_{i}=-(y-h(t))h(t)(1-h(t))x_{i}$\n",
    "\n",
    "Initially, $b_0$, $b_1$ and $b_2$ are set as 0. In each iteration, they are updated as: $b_i = b_i + learning\\_rate * (y - p) * p * (1-p) * x_i$\n",
    "\n",
    "Learning rate set as 0.3 and number of epoch set as 10.\n",
    "\n"
   ]
  },
  {
   "cell_type": "code",
   "execution_count": 4,
   "metadata": {},
   "outputs": [
    {
     "data": {
      "text/plain": [
       "Text(0.5,1,'accuracy percentage in each epoch')"
      ]
     },
     "execution_count": 4,
     "metadata": {},
     "output_type": "execute_result"
    },
    {
     "data": {
      "image/png": "[encoded data removed]",
      "text/plain": [
       "<Figure size 432x288 with 1 Axes>"
      ]
     },
     "metadata": {},
     "output_type": "display_data"
    }
   ],
   "source": [
    "b = [b_0, b_1, b_2]\n",
    "b_list = []\n",
    "accuracy_list = []\n",
    "\n",
    "from math import exp\n",
    "import pandas as pd\n",
    "\n",
    "\n",
    "def predict(b, row):\n",
    "    prediction = 1/(1+exp(-(b[0]+b[1]*row[0]+b[2]*row[1])))\n",
    "    return prediction\n",
    "\n",
    "def calc_accuracy(b, row):\n",
    "    sum_error = 0.0\n",
    "    for row in data:\n",
    "        y_test = predict(b_list[-1], row)\n",
    "        y_label = (1 if y_test>=0.5 else 0)\n",
    "        y_train = row[-1]\n",
    "        error = abs(y_label - y_train)\n",
    "        sum_error += error\n",
    "        accuracy = (1-sum_error/len(data[-1]))*100\n",
    "        return accuracy\n",
    "    \n",
    "for i in range(epoch):\n",
    "    for row in data:\n",
    "        prediction = predict(b, row)\n",
    "        b[0] = b[0] + learning_rate * (row[-1] - prediction) * prediction * (1-prediction)\n",
    "        b[1] = b[1] + learning_rate * (row[-1] - prediction) * prediction * (1-prediction) * row[0]\n",
    "        b[2] = b[2] + learning_rate * (row[-1] - prediction) * prediction * (1-prediction) * row[1]\n",
    "        b_list.append([b[0], b[1],b[2]])\n",
    "    accuracy = calc_accuracy(b_list[-1], data)\n",
    "    accuracy_list.append(accuracy)\n",
    "    \n",
    "plt.plot(accuracy_list)\n",
    "plt.title('accuracy percentage in each epoch')\n"
   ]
  },
  {
   "cell_type": "markdown",
   "metadata": {},
   "source": [
    "If predict value < 0.5, then it is labeled as 0, else 1."
   ]
  },
  {
   "cell_type": "code",
   "execution_count": 5,
   "metadata": {},
   "outputs": [
    {
     "name": "stdout",
     "output_type": "stream",
     "text": [
      "   predict value  test label  actual label\n",
      "0       0.298757           0             0\n",
      "1       0.145951           0             0\n",
      "2       0.085333           0             0\n",
      "3       0.219737           0             0\n",
      "4       0.247059           0             0\n",
      "5       0.954702           1             1\n",
      "6       0.862034           1             1\n",
      "7       0.971773           1             1\n",
      "8       0.999295           1             1\n",
      "9       0.905489           1             1\n"
     ]
    }
   ],
   "source": [
    "y_test = []\n",
    "y_label = []\n",
    "y_train = []\n",
    "for row in data:\n",
    "    y_test_val = predict(b_list[-1], row)\n",
    "    y_test.append(y_test_val)\n",
    "    y_label.append(1 if y_test_val>=0.5 else 0)\n",
    "    y_train.append(row[-1])\n",
    "    \n",
    "results = pd.DataFrame(list(zip(y_test, y_label, y_train)), columns = ('predict value', 'test label', 'actual label'))\n",
    "print(results)"
   ]
  },
  {
   "cell_type": "markdown",
   "metadata": {},
   "source": [
    "Using the results obtained from the final epoch, $b_0$ = -0.406605, $b_1$ = 0.852573, $b_2$ = -1.104746. It can be seen that the line below can separate the two classes."
   ]
  },
  {
   "cell_type": "code",
   "execution_count": 6,
   "metadata": {},
   "outputs": [
    {
     "name": "stdout",
     "output_type": "stream",
     "text": [
      "Values of coefficients:  [-0.4066054639903162, 0.8525733163581151, -1.1047462590413433]\n"
     ]
    },
    {
     "data": {
      "text/plain": [
       "[<matplotlib.lines.Line2D at 0x1de79243ef0>]"
      ]
     },
     "execution_count": 6,
     "metadata": {},
     "output_type": "execute_result"
    },
    {
     "data": {
      "image/png": "[encoded data removed]",
      "text/plain": [
       "<Figure size 432x288 with 1 Axes>"
      ]
     },
     "metadata": {},
     "output_type": "display_data"
    }
   ],
   "source": [
    "print('Values of coefficients: ', b_list[-1])\n",
    "line_value = [b_list[-1][0]+b_list[-1][1]*row[0]+b_list[-1][-1]*row[1] for row in data]\n",
    "x = np.linspace(0,9,100)\n",
    "temp = (-b_list[-1][0]-b_list[-1][1]*x)*(1/b_list[-1][-1])\n",
    "plt.scatter(x_1, x_2, c=color)\n",
    "plt.plot(x,temp, 'green')"
   ]
  }
 ],
 "metadata": {
  "kernelspec": {
   "display_name": "Python 3",
   "language": "python",
   "name": "python3"
  },
  "language_info": {
   "codemirror_mode": {
    "name": "ipython",
    "version": 3
   },
   "file_extension": ".py",
   "mimetype": "text/x-python",
   "name": "python",
   "nbconvert_exporter": "python",
   "pygments_lexer": "ipython3",
   "version": "3.6.5"
  }
 },
 "nbformat": 4,
 "nbformat_minor": 2
}
